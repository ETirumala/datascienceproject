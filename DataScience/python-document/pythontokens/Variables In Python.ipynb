{
 "cells": [
  {
   "cell_type": "code",
   "execution_count": 4,
   "metadata": {},
   "outputs": [
    {
     "name": "stdout",
     "output_type": "stream",
     "text": [
      "Hello World\n",
      "10\n",
      "values of a,b and c = 10 20 30\n"
     ]
    }
   ],
   "source": [
    "#Printing a string\n",
    "print(\"Hello World\");\n",
    "    #Printing Variable\n",
    "a = 10\n",
    "print(a);\n",
    "    #Printing Multiple variables\n",
    "a = 10\n",
    "b = 20\n",
    "c = 30\n",
    "print(\"values of a,b and c =\", a,b,c);"
   ]
  },
  {
   "cell_type": "code",
   "execution_count": null,
   "metadata": {},
   "outputs": [],
   "source": []
  },
  {
   "cell_type": "code",
   "execution_count": null,
   "metadata": {},
   "outputs": [],
   "source": []
  }
 ],
 "metadata": {
  "kernelspec": {
   "display_name": "Python 3",
   "language": "python",
   "name": "python3"
  },
  "language_info": {
   "codemirror_mode": {
    "name": "ipython",
    "version": 3
   },
   "file_extension": ".py",
   "mimetype": "text/x-python",
   "name": "python",
   "nbconvert_exporter": "python",
   "pygments_lexer": "ipython3",
   "version": "3.7.3"
  }
 },
 "nbformat": 4,
 "nbformat_minor": 2
}
