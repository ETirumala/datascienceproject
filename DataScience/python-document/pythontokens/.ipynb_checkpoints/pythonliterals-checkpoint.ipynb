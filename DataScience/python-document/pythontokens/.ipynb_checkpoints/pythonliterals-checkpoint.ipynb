{
 "cells": [
  {
   "cell_type": "code",
   "execution_count": 3,
   "metadata": {},
   "outputs": [
    {
     "name": "stdout",
     "output_type": "stream",
     "text": [
      "This is my Datascience Project\n"
     ]
    }
   ],
   "source": [
    "#Literals\n",
    "#String Literals\n",
    "#Single Line string\n",
    "\n",
    "abc = \"This is my Datascience Project\"\n",
    "print(abc)\n"
   ]
  },
  {
   "cell_type": "code",
   "execution_count": 5,
   "metadata": {},
   "outputs": [
    {
     "name": "stdout",
     "output_type": "stream",
     "text": [
      "This is my Datascience\n",
      "for multiple project\n"
     ]
    }
   ],
   "source": [
    "#Multi Line string\n",
    "\n",
    "abc = '''This is my Datascience\n",
    "for multiple project'''\n",
    "print(abc)"
   ]
  },
  {
   "cell_type": "code",
   "execution_count": 6,
   "metadata": {},
   "outputs": [
    {
     "name": "stdout",
     "output_type": "stream",
     "text": [
      "raw\\n string\n"
     ]
    }
   ],
   "source": [
    "#Raw String\n",
    "abc = r\"raw\\n string\"\n",
    "print(abc)"
   ]
  },
  {
   "cell_type": "code",
   "execution_count": 9,
   "metadata": {},
   "outputs": [
    {
     "name": "stdout",
     "output_type": "stream",
     "text": [
      "('Ünicöde', 'रў逜ीव')\n"
     ]
    }
   ],
   "source": [
    "#unicode string\n",
    "abc = u\"\\u00dcnic\\u00f6de\", u\"\\u0930\\u045E\\u901C\\u0940\\u0935\"\n",
    "print(abc)"
   ]
  },
  {
   "cell_type": "code",
   "execution_count": 14,
   "metadata": {},
   "outputs": [
    {
     "name": "stdout",
     "output_type": "stream",
     "text": [
      "10 100 200 300\n",
      "10.5 150.0\n",
      "3.14j\n"
     ]
    }
   ],
   "source": [
    "#Nmerical Literals\n",
    "a = 0b1010 #Binary Literals\n",
    "b = 100 #Decimal literal\n",
    "c = 0o310 #Octal Literal\n",
    "e_1 = 10.5#Float Literal\n",
    "e_2 = 1.5e2 #Float Literal\n",
    "f = 3.14j #Complex Literal\n",
    "\n",
    "print(a,b,c,d)\n",
    "print(e_1,e_2)\n",
    "print(f)"
   ]
  },
  {
   "cell_type": "code",
   "execution_count": 16,
   "metadata": {},
   "outputs": [
    {
     "name": "stdout",
     "output_type": "stream",
     "text": [
      "x is True\n"
     ]
    }
   ],
   "source": [
    "# Boolean Literals\n",
    "x = (1==True)\n",
    "y = (1==False)\n",
    "a = True + 4\n",
    "b = False + 10\n",
    "print('x is', x)"
   ]
  },
  {
   "cell_type": "code",
   "execution_count": 18,
   "metadata": {},
   "outputs": [
    {
     "name": "stdout",
     "output_type": "stream",
     "text": [
      "y is False\n"
     ]
    }
   ],
   "source": [
    "print(\"y is\", y)"
   ]
  },
  {
   "cell_type": "code",
   "execution_count": 19,
   "metadata": {},
   "outputs": [
    {
     "name": "stdout",
     "output_type": "stream",
     "text": [
      "a: 5\n"
     ]
    }
   ],
   "source": [
    "print('a:', a)"
   ]
  },
  {
   "cell_type": "code",
   "execution_count": 20,
   "metadata": {},
   "outputs": [
    {
     "name": "stdout",
     "output_type": "stream",
     "text": [
      "b: 10\n"
     ]
    }
   ],
   "source": [
    "print('b:',b)"
   ]
  },
  {
   "cell_type": "code",
   "execution_count": 34,
   "metadata": {},
   "outputs": [],
   "source": [
    "#Special Literal\n",
    "drink = \"Available\"\n",
    "food = None\n",
    "def menu(x):\n",
    "    if x == drink:\n",
    "        print(drink)\n",
    "    else:\n",
    "        print(food)\n",
    "    menu(drink)\n",
    "    menu(food)"
   ]
  },
  {
   "cell_type": "code",
   "execution_count": null,
   "metadata": {},
   "outputs": [],
   "source": [
    "\n"
   ]
  },
  {
   "cell_type": "code",
   "execution_count": null,
   "metadata": {},
   "outputs": [],
   "source": []
  },
  {
   "cell_type": "code",
   "execution_count": null,
   "metadata": {},
   "outputs": [],
   "source": []
  }
 ],
 "metadata": {
  "kernelspec": {
   "display_name": "Python 3",
   "language": "python",
   "name": "python3"
  },
  "language_info": {
   "codemirror_mode": {
    "name": "ipython",
    "version": 3
   },
   "file_extension": ".py",
   "mimetype": "text/x-python",
   "name": "python",
   "nbconvert_exporter": "python",
   "pygments_lexer": "ipython3",
   "version": "3.7.3"
  }
 },
 "nbformat": 4,
 "nbformat_minor": 2
}
