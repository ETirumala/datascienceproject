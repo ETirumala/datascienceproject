{
 "cells": [
  {
   "cell_type": "code",
   "execution_count": 3,
   "metadata": {},
   "outputs": [
    {
     "name": "stdout",
     "output_type": "stream",
     "text": [
      "This is my Datascience Project\n"
     ]
    }
   ],
   "source": [
    "#Literals\n",
    "#String Literals\n",
    "#Single Line string\n",
    "\n",
    "abc = \"This is my Datascience Project\"\n",
    "print(abc)\n"
   ]
  },
  {
   "cell_type": "code",
   "execution_count": 5,
   "metadata": {},
   "outputs": [
    {
     "name": "stdout",
     "output_type": "stream",
     "text": [
      "This is my Datascience\n",
      "for multiple project\n"
     ]
    }
   ],
   "source": [
    "#Multi Line string\n",
    "\n",
    "abc = '''This is my Datascience\n",
    "for multiple project'''\n",
    "print(abc)"
   ]
  },
  {
   "cell_type": "code",
   "execution_count": 6,
   "metadata": {},
   "outputs": [
    {
     "name": "stdout",
     "output_type": "stream",
     "text": [
      "raw\\n string\n"
     ]
    }
   ],
   "source": [
    "#Raw String\n",
    "abc = r\"raw\\n string\"\n",
    "print(abc)"
   ]
  },
  {
   "cell_type": "code",
   "execution_count": 9,
   "metadata": {},
   "outputs": [
    {
     "name": "stdout",
     "output_type": "stream",
     "text": [
      "('Ünicöde', 'रў逜ीव')\n"
     ]
    }
   ],
   "source": [
    "#unicode string\n",
    "abc = u\"\\u00dcnic\\u00f6de\", u\"\\u0930\\u045E\\u901C\\u0940\\u0935\"\n",
    "print(abc)"
   ]
  },
  {
   "cell_type": "code",
   "execution_count": null,
   "metadata": {},
   "outputs": [],
   "source": []
  }
 ],
 "metadata": {
  "kernelspec": {
   "display_name": "Python 3",
   "language": "python",
   "name": "python3"
  },
  "language_info": {
   "codemirror_mode": {
    "name": "ipython",
    "version": 3
   },
   "file_extension": ".py",
   "mimetype": "text/x-python",
   "name": "python",
   "nbconvert_exporter": "python",
   "pygments_lexer": "ipython3",
   "version": "3.7.3"
  }
 },
 "nbformat": 4,
 "nbformat_minor": 2
}
