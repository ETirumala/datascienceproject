{
 "cells": [
  {
   "cell_type": "code",
   "execution_count": 28,
   "metadata": {},
   "outputs": [
    {
     "name": "stdout",
     "output_type": "stream",
     "text": [
      "    S.no   Name       Purpuse  Total Amount  Interest  \\\n",
      "0    1.0  Durga  Siri Marrage       50000.0       2.0   \n",
      "1    NaN    NaN           NaN       50000.0       2.0   \n",
      "2    NaN    NaN           NaN       47000.0       2.0   \n",
      "3    NaN    NaN           NaN       44000.0       2.0   \n",
      "4    NaN    NaN           NaN       41000.0       2.0   \n",
      "5    NaN    NaN           NaN       38000.0       2.0   \n",
      "6    NaN    NaN           NaN       35000.0       2.0   \n",
      "7    NaN    NaN           NaN       32000.0       2.0   \n",
      "8    NaN    NaN           NaN       29000.0       2.0   \n",
      "9    NaN    NaN           NaN       26000.0       2.0   \n",
      "10   NaN    NaN           NaN       23000.0       2.0   \n",
      "11   NaN    NaN           NaN       20000.0       2.0   \n",
      "12   NaN    NaN           NaN       17000.0       2.0   \n",
      "13   NaN    NaN           NaN       14000.0       2.0   \n",
      "14   NaN    NaN           NaN       11000.0       2.0   \n",
      "15   NaN    NaN           NaN        8000.0       2.0   \n",
      "16   NaN    NaN           NaN        5000.0       2.0   \n",
      "17   NaN    NaN           NaN        2000.0       2.0   \n",
      "18   NaN    NaN           NaN           NaN       NaN   \n",
      "19   NaN    NaN           NaN           NaN       NaN   \n",
      "20   NaN    NaN           NaN           NaN       NaN   \n",
      "21   NaN    NaN           NaN           NaN       NaN   \n",
      "22   NaN    NaN           NaN           NaN       NaN   \n",
      "23   NaN    NaN           NaN           NaN       NaN   \n",
      "24   NaN    NaN           NaN           NaN       NaN   \n",
      "\n",
      "    Total interest to pay  every month                     Month  Amount Paid  \\\n",
      "0                               1000.0                       Jan          NaN   \n",
      "1                               1000.0                       Feb       3000.0   \n",
      "2                                940.0                       Mar       3000.0   \n",
      "3                                880.0                       Apr       3000.0   \n",
      "4                                820.0                       May       3000.0   \n",
      "5                                760.0                       Jun       3000.0   \n",
      "6                                700.0                       Jul       3000.0   \n",
      "7                                640.0                       Aug       3000.0   \n",
      "8                                580.0                       Sep       3000.0   \n",
      "9                                520.0                       Oct       3000.0   \n",
      "10                               460.0                       Nov       3000.0   \n",
      "11                               400.0                       Dec       3000.0   \n",
      "12                               340.0                       Jan       3000.0   \n",
      "13                               280.0                       Feb       3000.0   \n",
      "14                               220.0                       Mar       3000.0   \n",
      "15                               160.0                       Apr       3000.0   \n",
      "16                               100.0                       May       3000.0   \n",
      "17                                40.0                       Jun       2000.0   \n",
      "18                                 NaN         Total Paid Amount      58840.0   \n",
      "19                                 NaN                       NaN          NaN   \n",
      "20                                 NaN                       NaN          NaN   \n",
      "21                                 NaN                       NaN          NaN   \n",
      "22                                 NaN  Total Amount Have to Pay          NaN   \n",
      "23                                 NaN                       NaN          NaN   \n",
      "24                                 NaN                       NaN          NaN   \n",
      "\n",
      "     Total  Unnamed: 9          Unnamed: 10      Unnamed: 11  \n",
      "0      NaN         NaN  extra interest paid  sumof interest   \n",
      "1   4000.0      4000.0                 1200             3800  \n",
      "2   3940.0      4000.0                  NaN              NaN  \n",
      "3   3880.0      4000.0                  NaN              NaN  \n",
      "4   3820.0      4000.0                  NaN              NaN  \n",
      "5   3760.0      4000.0                  NaN              NaN  \n",
      "6   3700.0      4000.0                  NaN              NaN  \n",
      "7   3640.0      4000.0                  NaN              NaN  \n",
      "8   3580.0      4000.0                  NaN              NaN  \n",
      "9   3520.0      4000.0                  NaN            48000  \n",
      "10  3460.0      4000.0                  NaN              NaN  \n",
      "11  3400.0      4000.0                  NaN              NaN  \n",
      "12  3340.0      4000.0                  NaN              NaN  \n",
      "13  3280.0      4000.0                  NaN              NaN  \n",
      "14  3220.0      4000.0                  NaN              NaN  \n",
      "15  3160.0      4000.0                  NaN              NaN  \n",
      "16  3100.0      4000.0                  NaN              NaN  \n",
      "17  2040.0      4000.0                  NaN              NaN  \n",
      "18     NaN     68000.0                  NaN              NaN  \n",
      "19     NaN         NaN                  NaN              NaN  \n",
      "20     NaN         NaN                  NaN              NaN  \n",
      "21     NaN         NaN                  NaN              NaN  \n",
      "22     NaN         NaN                  NaN              NaN  \n",
      "23     NaN         NaN                 12.5              NaN  \n",
      "24     NaN         NaN                12500              NaN  \n"
     ]
    }
   ],
   "source": [
    "import pandas as pd\n",
    "sp = pd.read_csv(\"C:/Users/etiru/Downloads/ds_sp_projects/mrg_loan.csv\")\n",
    "print(sp)"
   ]
  },
  {
   "cell_type": "code",
   "execution_count": 35,
   "metadata": {},
   "outputs": [
    {
     "name": "stdout",
     "output_type": "stream",
     "text": [
      "ï»¿S.no,Name,Purpuse,Total Amount,Interest,Total interest to pay  every month,Month,Amount Paid,Total,,,\n",
      "1,Durga,Siri Marrage,50000,2,1000,Jan,,,,extra interest paid,sumof interest \n",
      ",,,50000,2,1000,Feb,3000,4000,4000,1200,3800\n",
      ",,,47000,2,940,Mar,3000,3940,4000,,\n",
      ",,,44000,2,880,Apr,3000,3880,4000,,\n",
      ",,,41000,2,820,May,3000,3820,4000,,\n",
      ",,,38000,2,760,Jun,3000,3760,4000,,\n",
      ",,,35000,2,700,Jul,3000,3700,4000,,\n",
      ",,,32000,2,640,Aug,3000,3640,4000,,\n",
      ",,,29000,2,580,Sep,3000,3580,4000,,\n",
      ",,,26000,2,520,Oct,3000,3520,4000,,48000\n",
      ",,,23000,2,460,Nov,3000,3460,4000,,\n",
      ",,,20000,2,400,Dec,3000,3400,4000,,\n",
      ",,,17000,2,340,Jan,3000,3340,4000,,\n",
      ",,,14000,2,280,Feb,3000,3280,4000,,\n",
      ",,,11000,2,220,Mar,3000,3220,4000,,\n",
      ",,,8000,2,160,Apr,3000,3160,4000,,\n",
      ",,,5000,2,100,May,3000,3100,4000,,\n",
      ",,,2000,2,40,Jun,2000,2040,4000,,\n",
      ",,,,,,Total Paid Amount,58840,,68000,,\n",
      ",,,,,,,,,,,\n",
      ",,,,,,,,,,,\n",
      ",,,,,,,,,,,\n",
      ",,,,,,Total Amount Have to Pay,,,,,\n",
      ",,,,,,,,,,12.5,\n",
      ",,,,,,,,,,12500,\n",
      "\n"
     ]
    }
   ],
   "source": [
    "pm = open(\"C:/Users/etiru/Downloads/ds_sp_projects/mrg_loan.csv\",\"r\")\n",
    "print(pm.read())\n"
   ]
  },
  {
   "cell_type": "code",
   "execution_count": 42,
   "metadata": {},
   "outputs": [
    {
     "name": "stdout",
     "output_type": "stream",
     "text": [
      "ï»¿S.no,Name,Purpuse,Total Amount,Interest,Total interest to pay  every month,Month,Amount Paid,Total,,,\n",
      "\n"
     ]
    }
   ],
   "source": [
    "pm = open(\"C:/Users/etiru/Downloads/ds_sp_projects/mrg_loan.csv\",\"r\")\n",
    "print(pm.readline())"
   ]
  },
  {
   "cell_type": "code",
   "execution_count": 41,
   "metadata": {},
   "outputs": [
    {
     "name": "stdout",
     "output_type": "stream",
     "text": [
      "ï»¿S.no,Name,Purpuse,Total Amount,Interest,Total interest to pay  every month,Month,Amount Paid,Total,,,\n",
      "\n",
      "1,Durga,Siri Marrage,50000,2,1000,Jan,,,,extra interest paid,sumof interest \n",
      "\n",
      ",,,50000,2,1000,Feb,3000,4000,4000,1200,3800\n",
      "\n",
      ",,,47000,2,940,Mar,3000,3940,4000,,\n",
      "\n",
      ",,,44000,2,880,Apr,3000,3880,4000,,\n",
      "\n",
      ",,,41000,2,820,May,3000,3820,4000,,\n",
      "\n",
      ",,,38000,2,760,Jun,3000,3760,4000,,\n",
      "\n",
      ",,,35000,2,700,Jul,3000,3700,4000,,\n",
      "\n",
      ",,,32000,2,640,Aug,3000,3640,4000,,\n",
      "\n",
      ",,,29000,2,580,Sep,3000,3580,4000,,\n",
      "\n",
      ",,,26000,2,520,Oct,3000,3520,4000,,48000\n",
      "\n",
      ",,,23000,2,460,Nov,3000,3460,4000,,\n",
      "\n",
      ",,,20000,2,400,Dec,3000,3400,4000,,\n",
      "\n",
      ",,,17000,2,340,Jan,3000,3340,4000,,\n",
      "\n",
      ",,,14000,2,280,Feb,3000,3280,4000,,\n",
      "\n",
      ",,,11000,2,220,Mar,3000,3220,4000,,\n",
      "\n",
      ",,,8000,2,160,Apr,3000,3160,4000,,\n",
      "\n",
      ",,,5000,2,100,May,3000,3100,4000,,\n",
      "\n",
      ",,,2000,2,40,Jun,2000,2040,4000,,\n",
      "\n",
      ",,,,,,Total Paid Amount,58840,,68000,,\n",
      "\n",
      ",,,,,,,,,,,\n",
      "\n",
      ",,,,,,,,,,,\n",
      "\n",
      ",,,,,,,,,,,\n",
      "\n",
      ",,,,,,Total Amount Have to Pay,,,,,\n",
      "\n",
      ",,,,,,,,,,12.5,\n",
      "\n",
      ",,,,,,,,,,12500,\n",
      "\n"
     ]
    }
   ],
   "source": [
    "pm = open(\"C:/Users/etiru/Downloads/ds_sp_projects/mrg_loan.csv\",\"r\")\n",
    "for x in pm:\n",
    "    print(x)\n"
   ]
  },
  {
   "cell_type": "code",
   "execution_count": 36,
   "metadata": {},
   "outputs": [
    {
     "ename": "AttributeError",
     "evalue": "module 'pandas' has no attribute 'read_jpg'",
     "output_type": "error",
     "traceback": [
      "\u001b[1;31m---------------------------------------------------------------------------\u001b[0m",
      "\u001b[1;31mAttributeError\u001b[0m                            Traceback (most recent call last)",
      "\u001b[1;32m<ipython-input-36-be54f943f54d>\u001b[0m in \u001b[0;36m<module>\u001b[1;34m\u001b[0m\n\u001b[1;32m----> 1\u001b[1;33m \u001b[0mpm\u001b[0m \u001b[1;33m=\u001b[0m \u001b[0mpd\u001b[0m\u001b[1;33m.\u001b[0m\u001b[0mread_jpg\u001b[0m\u001b[1;33m(\u001b[0m\u001b[1;34m\"C:/Users/etiru/Downloads/ds_sp_projects/1.jpg\"\u001b[0m\u001b[1;33m)\u001b[0m\u001b[1;33m\u001b[0m\u001b[1;33m\u001b[0m\u001b[0m\n\u001b[0m",
      "\u001b[1;31mAttributeError\u001b[0m: module 'pandas' has no attribute 'read_jpg'"
     ]
    }
   ],
   "source": [
    "pm = pd.read_jpg(\"C:/Users/etiru/Downloads/ds_sp_projects/1.jpg\")"
   ]
  },
  {
   "cell_type": "code",
   "execution_count": 45,
   "metadata": {},
   "outputs": [
    {
     "data": {
      "text/plain": [
       "72"
      ]
     },
     "execution_count": 45,
     "metadata": {},
     "output_type": "execute_result"
    }
   ],
   "source": [
    "pm = open(\"C:/Users/etiru/Downloads/ds_sp_projects/test.txt\",\"a\")\n",
    "pm.write(\" the datascience is to protect data. where we have to insert in test.txt\")"
   ]
  },
  {
   "cell_type": "code",
   "execution_count": null,
   "metadata": {},
   "outputs": [],
   "source": []
  },
  {
   "cell_type": "code",
   "execution_count": null,
   "metadata": {},
   "outputs": [],
   "source": []
  }
 ],
 "metadata": {
  "kernelspec": {
   "display_name": "Python 3",
   "language": "python",
   "name": "python3"
  },
  "language_info": {
   "codemirror_mode": {
    "name": "ipython",
    "version": 3
   },
   "file_extension": ".py",
   "mimetype": "text/x-python",
   "name": "python",
   "nbconvert_exporter": "python",
   "pygments_lexer": "ipython3",
   "version": "3.7.3"
  }
 },
 "nbformat": 4,
 "nbformat_minor": 2
}
