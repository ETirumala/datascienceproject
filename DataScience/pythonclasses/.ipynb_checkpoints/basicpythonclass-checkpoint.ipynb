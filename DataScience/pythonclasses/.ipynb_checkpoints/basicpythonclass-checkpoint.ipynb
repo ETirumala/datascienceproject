{
 "cells": [
  {
   "cell_type": "code",
   "execution_count": 1,
   "metadata": {},
   "outputs": [
    {
     "name": "stdout",
     "output_type": "stream",
     "text": [
      "10\n"
     ]
    }
   ],
   "source": [
    "a=10\n",
    "print(a)"
   ]
  },
  {
   "cell_type": "code",
   "execution_count": 2,
   "metadata": {},
   "outputs": [
    {
     "name": "stdout",
     "output_type": "stream",
     "text": [
      "priya\n"
     ]
    }
   ],
   "source": [
    "name = \"priya\"\n",
    "print(name)"
   ]
  },
  {
   "cell_type": "code",
   "execution_count": 12,
   "metadata": {},
   "outputs": [
    {
     "name": "stdout",
     "output_type": "stream",
     "text": [
      "50\n",
      "50\n"
     ]
    }
   ],
   "source": [
    "a=b=c=50\n",
    "print (a)\n",
    "print(b)\n"
   ]
  },
  {
   "cell_type": "code",
   "execution_count": 18,
   "metadata": {},
   "outputs": [
    {
     "name": "stdout",
     "output_type": "stream",
     "text": [
      "Thirumala\n",
      "Eerlla\n",
      "hello priya welcome to Data science class\n",
      "class started from 6.34 am\n",
      "online class ging on\n",
      "priya is attending the class\n"
     ]
    }
   ],
   "source": [
    "fn = \"Thirumala\"\n",
    "ln = \"Eerlla\"\n",
    "print(fn)\n",
    "print(ln)\n",
    "textname = \"hello priya welcome to \\\n",
    "Data science class\"\n",
    "print(textname)\n",
    "multiline = '''class started from 6.34 am\n",
    "online class ging on\n",
    "priya is attending the class'''\n",
    "print(multiline)"
   ]
  },
  {
   "cell_type": "code",
   "execution_count": 29,
   "metadata": {},
   "outputs": [
    {
     "name": "stdout",
     "output_type": "stream",
     "text": [
      "Operators Concepts\n",
      " Arthematic Operator\n",
      "                +  (additions)\n",
      "                \n"
     ]
    },
    {
     "data": {
      "text/plain": [
       "3"
      ]
     },
     "execution_count": 29,
     "metadata": {},
     "output_type": "execute_result"
    }
   ],
   "source": [
    "optext = \"Operators Concepts\"\n",
    "arthopadd = ''' Arthematic Operator\n",
    "                +  (additions)\n",
    "                '''\n",
    "arthopsub = ''' Arthematic Operator\n",
    "                 - (subraction)\n",
    "                '''\n",
    "arthopmul = ''' Arthematic Operator\n",
    "                 * (multiplication)\n",
    "                '''\n",
    "arthopdiv = ''' Arthematic Operator\n",
    "                 /  (Division)\n",
    "                '''\n",
    "arthopmod = ''' Arthematic Operator\n",
    "                 % (Modulus)\n",
    "                '''\n",
    "print(optext)\n",
    "print(arthopadd)\n",
    "1+2 \n",
    "\n",
    "\n",
    "\n",
    "\n"
   ]
  },
  {
   "cell_type": "code",
   "execution_count": 30,
   "metadata": {},
   "outputs": [
    {
     "name": "stdout",
     "output_type": "stream",
     "text": [
      " Arthematic Operator\n",
      "                 - (subraction)\n",
      "                \n"
     ]
    },
    {
     "data": {
      "text/plain": [
       "-1"
      ]
     },
     "execution_count": 30,
     "metadata": {},
     "output_type": "execute_result"
    }
   ],
   "source": [
    "print(arthopsub)\n",
    "1-2\n",
    "\n"
   ]
  },
  {
   "cell_type": "code",
   "execution_count": 34,
   "metadata": {},
   "outputs": [
    {
     "name": "stdout",
     "output_type": "stream",
     "text": [
      " Arthematic Operator\n",
      "                 * (multiplication)\n",
      "                \n"
     ]
    },
    {
     "data": {
      "text/plain": [
       "20"
      ]
     },
     "execution_count": 34,
     "metadata": {},
     "output_type": "execute_result"
    }
   ],
   "source": [
    "print(arthopmul)\n",
    "5*4\n"
   ]
  },
  {
   "cell_type": "code",
   "execution_count": 33,
   "metadata": {},
   "outputs": [
    {
     "name": "stdout",
     "output_type": "stream",
     "text": [
      " Arthematic Operator\n",
      "                 /  (Division)\n",
      "                \n"
     ]
    },
    {
     "data": {
      "text/plain": [
       "2.0"
      ]
     },
     "execution_count": 33,
     "metadata": {},
     "output_type": "execute_result"
    }
   ],
   "source": [
    "\n",
    "print(arthopdiv)\n",
    "2/1\n",
    "\n"
   ]
  },
  {
   "cell_type": "code",
   "execution_count": 32,
   "metadata": {},
   "outputs": [
    {
     "name": "stdout",
     "output_type": "stream",
     "text": [
      " Arthematic Operator\n",
      "                 % (Modulus)\n",
      "                \n"
     ]
    },
    {
     "data": {
      "text/plain": [
       "0"
      ]
     },
     "execution_count": 32,
     "metadata": {},
     "output_type": "execute_result"
    }
   ],
   "source": [
    "print(arthopmod)\n",
    "2%1"
   ]
  },
  {
   "cell_type": "code",
   "execution_count": 37,
   "metadata": {},
   "outputs": [
    {
     "name": "stdout",
     "output_type": "stream",
     "text": [
      "omparative Operators\n",
      "< > <= >= != Operators\n"
     ]
    },
    {
     "data": {
      "text/plain": [
       "False"
      ]
     },
     "execution_count": 37,
     "metadata": {},
     "output_type": "execute_result"
    }
   ],
   "source": [
    "cmptext = \"omparative Operators\"\n",
    "op = \"< > <= >= != Operators\"\n",
    "print(cmptext)\n",
    "print(op)\n",
    "a = 10\n",
    "b = 20\n",
    "b>a\n",
    "\n",
    "\n",
    "\n"
   ]
  },
  {
   "cell_type": "code",
   "execution_count": 38,
   "metadata": {},
   "outputs": [
    {
     "data": {
      "text/plain": [
       "True"
      ]
     },
     "execution_count": 38,
     "metadata": {},
     "output_type": "execute_result"
    }
   ],
   "source": [
    "a<b\n"
   ]
  },
  {
   "cell_type": "code",
   "execution_count": 39,
   "metadata": {},
   "outputs": [
    {
     "data": {
      "text/plain": [
       "True"
      ]
     },
     "execution_count": 39,
     "metadata": {},
     "output_type": "execute_result"
    }
   ],
   "source": [
    "a!=b"
   ]
  },
  {
   "cell_type": "code",
   "execution_count": 40,
   "metadata": {},
   "outputs": [
    {
     "data": {
      "text/plain": [
       "True"
      ]
     },
     "execution_count": 40,
     "metadata": {},
     "output_type": "execute_result"
    }
   ],
   "source": [
    "a<=b"
   ]
  },
  {
   "cell_type": "code",
   "execution_count": 41,
   "metadata": {},
   "outputs": [
    {
     "data": {
      "text/plain": [
       "False"
      ]
     },
     "execution_count": 41,
     "metadata": {},
     "output_type": "execute_result"
    }
   ],
   "source": [
    "a>=b"
   ]
  },
  {
   "cell_type": "code",
   "execution_count": 42,
   "metadata": {},
   "outputs": [
    {
     "name": "stdout",
     "output_type": "stream",
     "text": [
      "Logical Operators\n",
      "AND OR NOT Operators\n",
      "False\n"
     ]
    }
   ],
   "source": [
    "lgptext = \"Logical Operators\"\n",
    "logop = \"AND OR NOT Operators\"\n",
    "print(lgptext)\n",
    "print(logop)\n",
    "a=10<10 and 2 > -1\n",
    "print(a)"
   ]
  },
  {
   "cell_type": "code",
   "execution_count": 48,
   "metadata": {},
   "outputs": [
    {
     "name": "stdout",
     "output_type": "stream",
     "text": [
      "True\n",
      "AND logical oprerator is described as the values of both thside should be equal then only the assignedvalue will be true\n"
     ]
    }
   ],
   "source": [
    "a=10<11 and 2>  -1\n",
    "print(a)\n",
    "anddesc = '''AND logical oprerator is described as the values of both the side should be equal then only the assigned\\\n",
    "value will be true'''\n",
    "print(anddesc)"
   ]
  },
  {
   "cell_type": "code",
   "execution_count": 49,
   "metadata": {},
   "outputs": [
    {
     "name": "stdout",
     "output_type": "stream",
     "text": [
      "True\n",
      "OR logical oprerator is described as the values of Any one of the side should be equal then only the assignedvalue will be true\n"
     ]
    }
   ],
   "source": [
    "a=10<11 or 2>  -1\n",
    "print(a)\n",
    "anddesc = '''OR logical oprerator is described as the values of Any one of the side should be equal then only the assigned\\\n",
    "value will be true'''\n",
    "print(anddesc)"
   ]
  },
  {
   "cell_type": "code",
   "execution_count": null,
   "metadata": {},
   "outputs": [],
   "source": []
  },
  {
   "cell_type": "code",
   "execution_count": null,
   "metadata": {},
   "outputs": [],
   "source": []
  }
 ],
 "metadata": {
  "kernelspec": {
   "display_name": "Python 3",
   "language": "python",
   "name": "python3"
  },
  "language_info": {
   "codemirror_mode": {
    "name": "ipython",
    "version": 3
   },
   "file_extension": ".py",
   "mimetype": "text/x-python",
   "name": "python",
   "nbconvert_exporter": "python",
   "pygments_lexer": "ipython3",
   "version": "3.7.3"
  }
 },
 "nbformat": 4,
 "nbformat_minor": 2
}
