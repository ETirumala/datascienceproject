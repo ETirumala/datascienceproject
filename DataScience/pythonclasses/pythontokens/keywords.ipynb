{
 "cells": [
  {
   "cell_type": "code",
   "execution_count": 2,
   "metadata": {},
   "outputs": [
    {
     "name": "stdout",
     "output_type": "stream",
     "text": [
      "Keywords description\n"
     ]
    }
   ],
   "source": [
    "print('Keywords description')"
   ]
  },
  {
   "cell_type": "code",
   "execution_count": 3,
   "metadata": {},
   "outputs": [
    {
     "name": "stdout",
     "output_type": "stream",
     "text": [
      "Some of the Keywords as follows\n"
     ]
    }
   ],
   "source": [
    "print('Some of the Keywords as follows')"
   ]
  },
  {
   "cell_type": "code",
   "execution_count": 6,
   "metadata": {},
   "outputs": [
    {
     "name": "stdout",
     "output_type": "stream",
     "text": [
      "Keywords:\n",
      " true, false, none, and, as, asset, def, class, continue, break, else, finaalyelif, def, except, global, for, if, from, import, raise, try, or, return, pass, nonlocal, in, not, is, lambda\n"
     ]
    }
   ],
   "source": [
    "print('Keywords:')\n",
    "print(''' true, false, none, and, as, asset, def, class, continue, break, else, finaaly\\\n",
    "elif, def, except, global, for, if, from, import, raise, try, or, return, pass, nonlocal, in, not, is, lambda''')"
   ]
  },
  {
   "cell_type": "code",
   "execution_count": null,
   "metadata": {},
   "outputs": [],
   "source": []
  }
 ],
 "metadata": {
  "kernelspec": {
   "display_name": "Python 3",
   "language": "python",
   "name": "python3"
  },
  "language_info": {
   "codemirror_mode": {
    "name": "ipython",
    "version": 3
   },
   "file_extension": ".py",
   "mimetype": "text/x-python",
   "name": "python",
   "nbconvert_exporter": "python",
   "pygments_lexer": "ipython3",
   "version": "3.7.3"
  }
 },
 "nbformat": 4,
 "nbformat_minor": 2
}
