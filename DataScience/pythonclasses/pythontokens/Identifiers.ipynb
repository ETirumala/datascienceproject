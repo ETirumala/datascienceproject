{
 "cells": [
  {
   "cell_type": "code",
   "execution_count": 12,
   "metadata": {},
   "outputs": [
    {
     "name": "stdout",
     "output_type": "stream",
     "text": [
      "Identifiers description:\n",
      " These are the name used to identify a variable, function, class or an object \n"
     ]
    }
   ],
   "source": [
    "print('Identifiers description:')\n",
    "\n",
    "print(''' These are the name used to identify a variable, function, class or an object ''')\n"
   ]
  },
  {
   "cell_type": "code",
   "execution_count": 18,
   "metadata": {},
   "outputs": [
    {
     "name": "stdout",
     "output_type": "stream",
     "text": [
      "Rules for Identifiers\n",
      "Only _ can be used for identifers\n",
      "Except Keywords we can used anyother name\n",
      "Python is a case sensitive i.e, the diffrence is Var and var\n",
      "1st charcter of an identifier can be character,underscore but not digit\n"
     ]
    }
   ],
   "source": [
    "print('Rules for Identifiers')\n",
    "print('''Only _ can be used for identifers\n",
    "Except Keywords we can used anyother name\n",
    "Python is a case sensitive i.e, the diffrence is Var and var\n",
    "1st charcter of an identifier can be character,underscore but not digit''')"
   ]
  },
  {
   "cell_type": "code",
   "execution_count": null,
   "metadata": {},
   "outputs": [],
   "source": []
  }
 ],
 "metadata": {
  "kernelspec": {
   "display_name": "Python 3",
   "language": "python",
   "name": "python3"
  },
  "language_info": {
   "codemirror_mode": {
    "name": "ipython",
    "version": 3
   },
   "file_extension": ".py",
   "mimetype": "text/x-python",
   "name": "python",
   "nbconvert_exporter": "python",
   "pygments_lexer": "ipython3",
   "version": "3.7.3"
  }
 },
 "nbformat": 4,
 "nbformat_minor": 2
}
