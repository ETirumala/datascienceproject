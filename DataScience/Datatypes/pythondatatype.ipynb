{
 "cells": [
  {
   "cell_type": "code",
   "execution_count": 19,
   "metadata": {},
   "outputs": [
    {
     "name": "stdout",
     "output_type": "stream",
     "text": [
      "50846 is of type <class 'int'>\n"
     ]
    }
   ],
   "source": [
    "# Immutable Datatypes: Immutable Datatypes Once created cannot be modified\n",
    "#Immutable Pythons are :\n",
    "#Numbers\n",
    "#Strings\n",
    "#Tuple\n",
    "\n",
    "# Python Numbers\n",
    "a=50846\n",
    "print(a,\"is of type\",type(a))"
   ]
  },
  {
   "cell_type": "code",
   "execution_count": 3,
   "metadata": {},
   "outputs": [
    {
     "name": "stdout",
     "output_type": "stream",
     "text": [
      "2.5896 is of type <class 'float'>\n"
     ]
    }
   ],
   "source": [
    "a=2.5896\n",
    "print(a,\"is of type\",type(a))"
   ]
  },
  {
   "cell_type": "code",
   "execution_count": 4,
   "metadata": {},
   "outputs": [
    {
     "name": "stdout",
     "output_type": "stream",
     "text": [
      "(1+2j) is complex number? True\n"
     ]
    }
   ],
   "source": [
    "a=1+2j\n",
    "print(a,\"is complex number?\", isinstance(1+2j,complex))"
   ]
  },
  {
   "cell_type": "code",
   "execution_count": 7,
   "metadata": {},
   "outputs": [
    {
     "data": {
      "text/plain": [
       "2147589654233"
      ]
     },
     "execution_count": 7,
     "metadata": {},
     "output_type": "execute_result"
    }
   ],
   "source": [
    "b = 2147589654233\n",
    "b"
   ]
  },
  {
   "cell_type": "code",
   "execution_count": 9,
   "metadata": {},
   "outputs": [
    {
     "data": {
      "text/plain": [
       "1.247589654485558"
      ]
     },
     "execution_count": 9,
     "metadata": {},
     "output_type": "execute_result"
    }
   ],
   "source": [
    "c = 1.247589654485558\n",
    "c"
   ]
  },
  {
   "cell_type": "code",
   "execution_count": 10,
   "metadata": {},
   "outputs": [
    {
     "data": {
      "text/plain": [
       "(5+6j)"
      ]
     },
     "execution_count": 10,
     "metadata": {},
     "output_type": "execute_result"
    }
   ],
   "source": [
    "d = 5+6j\n",
    "d"
   ]
  },
  {
   "cell_type": "code",
   "execution_count": 10,
   "metadata": {
    "scrolled": true
   },
   "outputs": [
    {
     "name": "stdout",
     "output_type": "stream",
     "text": [
      "s[20:40] = ument or publication\n"
     ]
    }
   ],
   "source": [
    "#Python String\n",
    "s = \"text matter of a document or publication in any form. Content is both information and communication: the sum total of the               freshness, readability, relevancy, and usefulness of the information presented, and the manner in which it is presented.\"\n",
    "print(\"s[20:40] =\",  s[20:40])\n"
   ]
  },
  {
   "cell_type": "code",
   "execution_count": 15,
   "metadata": {},
   "outputs": [
    {
     "ename": "SyntaxError",
     "evalue": "invalid syntax (<ipython-input-15-76a67b6619ff>, line 6)",
     "output_type": "error",
     "traceback": [
      "\u001b[1;36m  File \u001b[1;32m\"<ipython-input-15-76a67b6619ff>\"\u001b[1;36m, line \u001b[1;32m6\u001b[0m\n\u001b[1;33m    print(\"sp[1(20:80):2] =\", sp[1(20:80):2])\u001b[0m\n\u001b[1;37m                                     ^\u001b[0m\n\u001b[1;31mSyntaxError\u001b[0m\u001b[1;31m:\u001b[0m invalid syntax\n"
     ]
    }
   ],
   "source": [
    "#Tuple:\n",
    "sp = (14785, 'You received this email to let you know about important changes to your Google Account and services', 2+90j)\n",
    "\n",
    "print(sp)\n",
    "print(\"sp[1:] =\", sp[1:])\n",
    "print(\"sp[1(20:80):2] =\", sp[1(20:80):2])\n"
   ]
  },
  {
   "cell_type": "code",
   "execution_count": null,
   "metadata": {},
   "outputs": [],
   "source": [
    "#Mmutable Datatype:\n",
    "#Lists\n",
    "#Dictionaries\n",
    "#Sets"
   ]
  },
  {
   "cell_type": "code",
   "execution_count": 13,
   "metadata": {},
   "outputs": [],
   "source": [
    "#Python List:\n",
    "a = [5,10,15.258,'priya',24,30,'tiru']"
   ]
  },
  {
   "cell_type": "code",
   "execution_count": 14,
   "metadata": {},
   "outputs": [
    {
     "name": "stdout",
     "output_type": "stream",
     "text": [
      "a[1]=  10\n"
     ]
    }
   ],
   "source": [
    "#a[1]\n",
    "print(\"a[1]= \",a[1])"
   ]
  },
  {
   "cell_type": "code",
   "execution_count": 17,
   "metadata": {},
   "outputs": [
    {
     "name": "stdout",
     "output_type": "stream",
     "text": [
      "a[3:5] =  ['priya', 24, 30]\n"
     ]
    }
   ],
   "source": [
    "#a[3:5]\n",
    "print(\"a[3:5] = \",a[3:6])"
   ]
  },
  {
   "cell_type": "code",
   "execution_count": 18,
   "metadata": {},
   "outputs": [
    {
     "name": "stdout",
     "output_type": "stream",
     "text": [
      "a[0:] =  [5, 10, 15.258, 'priya', 24, 30, 'tiru']\n"
     ]
    }
   ],
   "source": [
    "#a[0:]\n",
    "print(\"a[0:] = \",a[0:])"
   ]
  },
  {
   "cell_type": "code",
   "execution_count": 17,
   "metadata": {},
   "outputs": [
    {
     "name": "stdout",
     "output_type": "stream",
     "text": [
      "<class 'dict'>\n",
      "pm[3] = nothing\n",
      "pm[3] = 90+100j\n"
     ]
    }
   ],
   "source": [
    "# python Dictionaries\n",
    "pm = {1:'this is my first dictionary created',2:25893324, 3:'nothing'}\n",
    "print(type(pm))\n",
    "print(\"pm[3] =\", pm[3])\n",
    "pm[3]='90+100j'\n",
    "print(\"pm[3] =\", pm[3])"
   ]
  },
  {
   "cell_type": "code",
   "execution_count": 18,
   "metadata": {},
   "outputs": [
    {
     "name": "stdout",
     "output_type": "stream",
     "text": [
      "a = {4, 5.5, 8, 9, 75}\n",
      "<class 'set'>\n"
     ]
    }
   ],
   "source": [
    "#python set\n",
    "a = {4,5.5,8,9,75}\n",
    "            \n",
    "#printing set variable a\n",
    "print(\"a =\", a)\n",
    "print(type(a))\n"
   ]
  },
  {
   "cell_type": "code",
   "execution_count": null,
   "metadata": {},
   "outputs": [],
   "source": []
  }
 ],
 "metadata": {
  "kernelspec": {
   "display_name": "Python 3",
   "language": "python",
   "name": "python3"
  },
  "language_info": {
   "codemirror_mode": {
    "name": "ipython",
    "version": 3
   },
   "file_extension": ".py",
   "mimetype": "text/x-python",
   "name": "python",
   "nbconvert_exporter": "python",
   "pygments_lexer": "ipython3",
   "version": "3.7.3"
  }
 },
 "nbformat": 4,
 "nbformat_minor": 2
}
